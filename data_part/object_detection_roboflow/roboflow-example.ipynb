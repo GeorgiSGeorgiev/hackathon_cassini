{
 "cells": [
  {
   "cell_type": "markdown",
   "metadata": {},
   "source": [
    "Autodistill has two model types:\n",
    "\n",
    "    A Base Model, which automatically labels your data, and;\n",
    "    A Target Model, which trains on your labeled data.\n",
    "\n",
    "To label your dataset with a Base Model, you need to provide prompt(s) that are relevant to the classes you want to label.\n",
    "\n",
    "**Replace \"example\" below with the prompt you want to use. Replace \"class\" with the name of the class you want the prompt results to be saved as in your dataset. Also, replace the IMAGE_NAME with an image from your dataset.**\n",
    "\n",
    "The code cell below loads the base model with your prompt on the provided image, then visualizes the results.\n",
    "\n",
    "You may need to experiment with a few prompts."
   ]
  },
  {
   "cell_type": "code",
   "execution_count": null,
   "metadata": {},
   "outputs": [],
   "source": [
    "from autodistill_grounding_dino import GroundingDINO\n",
    "from autodistill.detection import CaptionOntology\n",
    "\n",
    "base_model = GroundingDINO(ontology=CaptionOntology({\"shipping container\": \"container\"}))\n",
    "\n",
    "IMAGE_NAME = \"valid/images/image.jpg\"\n",
    "\n",
    "image = os.path.join(DATASET_NAME, IMAGE_NAME)\n",
    "\n",
    "predictions = base_model.predict(image)\n",
    "\n",
    "image = cv2.imread(image)\n",
    "\n",
    "annotator = sv.BoxAnnotator()\n",
    "\n",
    "annotated_image = annotator.annotate(scene=image, detections=predictions)\n",
    "\n",
    "sv.plot_image(annotated_image)"
   ]
  }
 ],
 "metadata": {
  "kernelspec": {
   "display_name": ".venv",
   "language": "python",
   "name": "python3"
  },
  "language_info": {
   "name": "python",
   "version": "3.9.17"
  }
 },
 "nbformat": 4,
 "nbformat_minor": 2
}
